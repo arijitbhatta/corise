{
  "cells": [
    {
      "cell_type": "markdown",
      "source": [
        "<h4><i><font color='red'>The project has many components, and we encourage you to complete as many as you can! That said, we highly encourage you to submit your work even if your notebook is only partially completed - the TA can help review your work and provide tips on any places that you got stuck or have further questions!</font></i></h4>"
      ],
      "metadata": {
        "id": "EybixDfgbfdK"
      },
      "id": "EybixDfgbfdK"
    },
    {
      "cell_type": "markdown",
      "source": [
        "<font size=\"6\">**Table of Contents:**</font>  \n",
        "<br>\n",
        "<font size=\"5\">\n",
        "<u>Behavioral Metrics:</u>  \n",
        "1\\. [Introduction](#scrollTo=mKT-yDAzlP9Y&uniqifier=1)   \n",
        "2\\. [Setup](#scrollTo=SuQ7Xnp1lolE&uniqifier=1)   \n",
        "3\\. [Traditional metrics: NDCG@K](#scrollTo=H1_DJMNDoW-5&uniqifier=1)   \n",
        "4\\. [TODO 4.1: Implement 3 Behavioral Metrics](#scrollTo=rkHkC-SnsQRI&uniqifier=1)   \n",
        "5\\. [TODO 4.2: Implement a New, Non-Learnt Ranker](#scrollTo=a4ZcoFf8uL2v&uniqifier=1)   \n",
        "<br>\n",
        "<u>Off-Policy Evaluation:</u>  \n",
        "1\\. [Introduction](#scrollTo=LKg4HQSbxwCY&uniqifier=1)   \n",
        "2\\. [Setup](#scrollTo=Qp_3_z7myCKU&uniqifier=1)   \n",
        "3\\. [Rewards and IPS](#scrollTo=9RboprQXyuCB&uniqifier=1)   \n",
        "4\\. [TODO 4.3: Capped IPS and NCIS](#scrollTo=zQuEVahrzNV9&uniqifier=1)   \n",
        "</font>\n",
        "\n"
      ],
      "metadata": {
        "id": "bvONhqQblFfl"
      },
      "id": "bvONhqQblFfl"
    },
    {
      "cell_type": "markdown",
      "source": [
        "# <u>Behavioral Metrics:</u>"
      ],
      "metadata": {
        "id": "oN0zQSPYncJR"
      },
      "id": "oN0zQSPYncJR"
    },
    {
      "cell_type": "markdown",
      "source": [
        "## **1. Introduction**\n",
        "[back to top](#scrollTo=bvONhqQblFfl&uniqifier=1)"
      ],
      "metadata": {
        "id": "mKT-yDAzlP9Y"
      },
      "id": "mKT-yDAzlP9Y"
    },
    {
      "cell_type": "markdown",
      "id": "41f1f7cb-9441-4fe1-962e-9e4cb3e3c192",
      "metadata": {
        "id": "41f1f7cb-9441-4fe1-962e-9e4cb3e3c192"
      },
      "source": [
        "Welcome to the last week of the course -- so excited to see that you've made it to the end! 👏 \n",
        "\n",
        "We've already discussed the importance of measuring model performance. As Lord Kelvin said, \"To measure is to know – If you cannot measure it, you cannot improve it.\" And he was right – metrics are the only way we can actually evaluate our model’s performance!\n",
        "\n",
        "In this week's project, we will touch upon two key aspects related to evaluation:\n",
        "1. Behavioral metrics: We will work with a Spotify music sessions dataset and implement a few behavioral metrics to understand their relationships with traditional metrics.\n",
        "2. Off-policy evaluation: We will simulate a dataset where we have logged action policies, and see how IPS is implemented.\n",
        "  \n",
        "<br>\n",
        "\n",
        "### About the Data: Spotify Music Sessions\n",
        "Behavioral metrics include factors like what items a user interacts with and how, the amount of time they spend on the platform, and how they spend that time. To define and implement a few behavioral metrics, we will work with the Spotify music sessions dataset.\n",
        "\n",
        "The public part of the dataset consists of roughly 130 million listening sessions with associated user interactions on the Spotify service. In total, users interacted with almost 4 million tracks during these sessions, and the dataset includes acoustic features and metadata for all of these tracks. We'll be working with a sample of the full dataset.\n",
        "  \n",
        "<br>A detailed description of the dataset can be found [here](https://drive.google.com/file/d/1BELTuH4nBeyHna5EAGzJv-HWHKrbxPsf/view?usp=sharing).\n"
      ]
    },
    {
      "cell_type": "markdown",
      "source": [
        "## **2. Setup**\n",
        "[back to top](#scrollTo=bvONhqQblFfl&uniqifier=1)"
      ],
      "metadata": {
        "id": "SuQ7Xnp1lolE"
      },
      "id": "SuQ7Xnp1lolE"
    },
    {
      "cell_type": "code",
      "execution_count": 1,
      "id": "837dcaa9-cc0b-4345-bbee-3a09683decf9",
      "metadata": {
        "id": "837dcaa9-cc0b-4345-bbee-3a09683decf9"
      },
      "outputs": [],
      "source": [
        "# Imports\n",
        "import numpy as np\n",
        "import pandas as pd\n",
        "from sklearn.metrics import ndcg_score\n",
        "import seaborn as sns\n",
        "from collections import OrderedDict\n",
        "from IPython.display import clear_output\n",
        "from functools import partial\n",
        "from tqdm import tqdm\n",
        "tqdm.pandas()\n",
        "\n",
        "\n",
        "# Download the data\n",
        "!pip install -U --no-cache-dir gdown --pre\n",
        "!gdown --no-cookies --fuzzy https://drive.google.com/file/d/1Z8N0Xf9M34PuN4V5G5uAxasvOCm6TVp4/view?usp=sharing\n",
        "!gdown --no-cookies --fuzzy https://drive.google.com/file/d/1D3RyRBKBaw0KbLxpJUQDjVIt5CLpE2n9/view?usp=sharing\n",
        "\n",
        "clear_output()"
      ]
    },
    {
      "cell_type": "code",
      "execution_count": 2,
      "id": "88eb3b58-062c-4c96-b3f0-2db4407ce1b3",
      "metadata": {
        "id": "88eb3b58-062c-4c96-b3f0-2db4407ce1b3",
        "colab": {
          "base_uri": "https://localhost:8080/"
        },
        "outputId": "14c359c6-d9a1-40e4-f27d-e346cd888934"
      },
      "outputs": [
        {
          "output_type": "execute_result",
          "data": {
            "text/plain": [
              "((167880, 21), (50704, 30))"
            ]
          },
          "metadata": {},
          "execution_count": 2
        }
      ],
      "source": [
        "# Read in data\n",
        "log = pd.read_csv(\"log_mini.csv\")\n",
        "tracks = pd.read_csv(\"tf_mini.csv\")\n",
        "\n",
        "log.shape, tracks.shape"
      ]
    },
    {
      "cell_type": "markdown",
      "source": [
        "## **3. Traditional metrics: NDCG@K**\n",
        "[back to top](#scrollTo=bvONhqQblFfl&uniqifier=1)"
      ],
      "metadata": {
        "id": "H1_DJMNDoW-5"
      },
      "id": "H1_DJMNDoW-5"
    },
    {
      "cell_type": "markdown",
      "id": "aba926f1-1f49-4b9d-b358-b780132f0070",
      "metadata": {
        "id": "aba926f1-1f49-4b9d-b358-b780132f0070"
      },
      "source": [
        "Normalized Discounted Cumulative Gain (NDCG) is a metric used to evaluate a ranked list of candidates, which values both order and relevancy of the items. In other words, it is able to use the fact that some documents are \"more\" relevant than others. Highly relevant items should come before medium relevant items, which should come before non-relevant items.\n",
        "  \n",
        "<br>We will use the log dataframe as the main dataframe for evaluation of metrics. The `skip_1` flag can be used as a relevance signal -- if the user found the recommendation relevant, `skip_1 = False`. With this relevance signal, we can compute simple NDCG metrics -- one for each session and then averaged across all sessions. This will serve as a base metric for comparison.\n",
        "\n",
        "Note: the ranking logic here is assumed to be the production ranker, i.e. sorting by `session_position` gives the exact order of tracks the Spotify ranker presented to the user.\n",
        "  \n",
        "<br>Let's compute a simple skip rate and NDCG metric for the production ranker:"
      ]
    },
    {
      "cell_type": "code",
      "source": [
        "# Compute average skip rate @ 10\n",
        "\n",
        "topk = 10\n",
        "log.sort_values(by=['session_position']).groupby(\"session_id\").apply(lambda x: np.mean(x['skip_1'].values[:topk])).mean()"
      ],
      "metadata": {
        "colab": {
          "base_uri": "https://localhost:8080/"
        },
        "id": "O4TZsRjUU6gQ",
        "outputId": "3ae48d5a-48f2-49de-f660-72e561d8ea8d"
      },
      "id": "O4TZsRjUU6gQ",
      "execution_count": 4,
      "outputs": [
        {
          "output_type": "execute_result",
          "data": {
            "text/plain": [
              "0.40894"
            ]
          },
          "metadata": {},
          "execution_count": 4
        }
      ]
    },
    {
      "cell_type": "code",
      "source": [
        "# Compute NDCG @ 10\n",
        "\n",
        "def compute_ndcg(df, topk):\n",
        "    df = df.iloc[:topk]\n",
        "    true_relevance = np.asarray(1-np.asarray(df['skip_1']*1.0))\n",
        "    ranker_scores = np.asarray(1/(np.asarray(range(len(df)))+1)) # Approximate the ranker scores using the session position\n",
        "    return ndcg_score([true_relevance], [ranker_scores])\n",
        "\n",
        "topk = 10\n",
        "log.sort_values(by=['session_position']).groupby(\"session_id\").progress_apply(partial(compute_ndcg, topk=topk)).mean()"
      ],
      "metadata": {
        "colab": {
          "base_uri": "https://localhost:8080/"
        },
        "id": "3iZkO9041pBS",
        "outputId": "2de6d973-4440-4483-e3a2-a1e00f016b40"
      },
      "id": "3iZkO9041pBS",
      "execution_count": 80,
      "outputs": [
        {
          "output_type": "stream",
          "name": "stderr",
          "text": [
            "100%|██████████| 10000/10000 [00:08<00:00, 1205.84it/s]\n"
          ]
        },
        {
          "output_type": "execute_result",
          "data": {
            "text/plain": [
              "0.8330266041453142"
            ]
          },
          "metadata": {},
          "execution_count": 80
        }
      ]
    },
    {
      "cell_type": "markdown",
      "source": [
        "## **4. TODO 4.1: Implement 3 Behavioral Metrics**\n",
        "[back to top](#scrollTo=bvONhqQblFfl&uniqifier=1)"
      ],
      "metadata": {
        "id": "rkHkC-SnsQRI"
      },
      "id": "rkHkC-SnsQRI"
    },
    {
      "cell_type": "markdown",
      "id": "85f93877-750a-476d-b530-96659c5a8bd5",
      "metadata": {
        "id": "85f93877-750a-476d-b530-96659c5a8bd5"
      },
      "source": [
        "Your first goal is to implement three behavioral metrics and compare their correlations:\n",
        "1. *Time to first skip:* How long did it take for the user to get the first bad recommendation, i.e. a recommendation they skipped. Since we can't easily calculate time, we can use number of songs as a proxy and compute the metric as number of songs it took for the first skip.\n",
        "\n",
        "2. *Sustained dissatisfaction:* We assume that the user is dissatisfied in a sustained manner if they skip 3 songs consecutively.\n",
        "\n",
        "3. *Session coherence:* We define coherence as how similar the recommended musical tracks are. We can use the acoustic_vector of the music tracks to calculate the similarity.\n",
        "\n",
        "Once these metrics are implemented, compute them for `topk=5` and `topk=10`. Compare their estimates for the production ranker as a correlation plot. Please note which metrics are correlated with NDCG."
      ]
    },
    {
      "cell_type": "code",
      "execution_count": 76,
      "id": "b8eba1c0-5ef0-40eb-9cbd-18df57607747",
      "metadata": {
        "id": "b8eba1c0-5ef0-40eb-9cbd-18df57607747",
        "outputId": "9df56488-7525-4d87-a6f5-72df33204317",
        "colab": {
          "base_uri": "https://localhost:8080/"
        }
      },
      "outputs": [
        {
          "output_type": "execute_result",
          "data": {
            "text/plain": [
              "3.9746365276451234"
            ]
          },
          "metadata": {},
          "execution_count": 76
        }
      ],
      "source": [
        "# Implement session metric 1:\n",
        "    # Time to first skip (number of songs to first skip)\n",
        "    # Our implementation found the answer to be 4.6380\n",
        "        # We assumed no skips yields the number of songs listened to as opposed to a null\n",
        "\n",
        "def skip_func(x):\n",
        "  try:\n",
        "    return np.where(x['skip_1']==True)[0][0]+1\n",
        "  except:\n",
        "    return None\n",
        "skip_time = log.sort_values(by=['session_position']).groupby(\"session_id\").apply(lambda x:skip_func(x) )\n",
        "skip_time.mean()"
      ]
    },
    {
      "cell_type": "code",
      "execution_count": 77,
      "id": "aabd3d1a-8710-4883-88f5-bf3f926ebba3",
      "metadata": {
        "id": "aabd3d1a-8710-4883-88f5-bf3f926ebba3",
        "outputId": "46de16f3-24f4-48f8-af84-5b214eff4612",
        "colab": {
          "base_uri": "https://localhost:8080/"
        }
      },
      "outputs": [
        {
          "output_type": "execute_result",
          "data": {
            "text/plain": [
              "0.6543"
            ]
          },
          "metadata": {},
          "execution_count": 77
        }
      ],
      "source": [
        "# Implement session metric 2:\n",
        "    # Sustained dissatisfaction: Proportions of sessions with 3 consecutive skips\n",
        "    # Our implementation found the answer to be 0.6543\n",
        "\n",
        "\n",
        "def sustained_dissatisfaction(session_df):\n",
        "\n",
        "  prev_skip, prev_prev_skip = False, False\n",
        "  for _, row in session_df.iterrows():\n",
        "      if row['skip_1'] and prev_skip and prev_prev_skip:\n",
        "          return True\n",
        "      prev_prev_skip = prev_skip\n",
        "      prev_skip = row['skip_1']\n",
        "  return False\n",
        "\n",
        "dissatisfaction = log.sort_values(by=['session_position']).groupby(\"session_id\").apply(lambda x:sustained_dissatisfaction(x) )\n",
        "dissatisfaction.mean()"
      ]
    },
    {
      "cell_type": "code",
      "execution_count": 132,
      "id": "5f41f788-daf7-44a4-9612-178f190e58bd",
      "metadata": {
        "id": "5f41f788-daf7-44a4-9612-178f190e58bd",
        "outputId": "ef291a33-1077-4c0f-ae70-77ce659644fc",
        "colab": {
          "base_uri": "https://localhost:8080/"
        }
      },
      "outputs": [
        {
          "output_type": "execute_result",
          "data": {
            "text/plain": [
              "0.8217885323596498"
            ]
          },
          "metadata": {},
          "execution_count": 132
        }
      ],
      "source": [
        "# Implement session metric 3: \n",
        "    # Session coherence: Average similarity between the top recommended tracks\n",
        "    # Our implementation found the answer to be ~0.8097\n",
        "        # We calculated the Cosine Similarity between tracks using the 8 element acoustic vector per track\n",
        "        # Cosine Similarity is the dot product of unit-length vectors\n",
        "        # Feel free to use a different similarity metric, such as Euclidean Distance from last week\n",
        "from sklearn.metrics.pairwise import cosine_similarity\n",
        "def get_session_coherence(logs_df, tracks_df):\n",
        "    acoustic_vec_cols = [f'acoustic_vector_{i}' for i in range(8)]    \n",
        "    top_logs = logs_df.sort_values(by=['session_position'])\n",
        "    #logs_with_acoustic = tracks_df.merge(top_logs, left_on='track_id', right_on='track_id_clean')\n",
        "    logs_with_acoustic = pd.merge(top_logs,tracks_df, right_on='track_id', left_on='track_id_clean',how='left')\n",
        "\n",
        "    def session_coherence(session_df):\n",
        "        return np.mean(cosine_similarity(session_df[acoustic_vec_cols].values))\n",
        "\n",
        "    return logs_with_acoustic.groupby('session_id').apply(session_coherence)\n",
        "\n",
        "get_session_coherence(log, tracks).mean()"
      ]
    },
    {
      "cell_type": "code",
      "source": [
        "# Correlation plot amongst metrics and NDCG\n",
        "metrics = {\n",
        "    'NDCG': log.sort_values(by=['session_position']).groupby(\"session_id\").apply(partial(compute_ndcg, topk=20)),\n",
        "    'Time to first skip': skip_time,\n",
        "    'Sustained Dissatisfaction': dissatisfaction,\n",
        "    'Session Coherence': get_session_coherence(log, tracks)\n",
        "}"
      ],
      "metadata": {
        "id": "pI1fUhZ6tJQ2"
      },
      "id": "pI1fUhZ6tJQ2",
      "execution_count": 113,
      "outputs": []
    },
    {
      "cell_type": "code",
      "source": [
        "metrics_df = pd.DataFrame(metrics)\n",
        "metrics_df['Sustained Dissatisfaction'] = metrics_df['Sustained Dissatisfaction']*1\n",
        "sns.heatmap(metrics_df.corr(), annot=True)"
      ],
      "metadata": {
        "id": "MjexkHs5ntGV",
        "outputId": "25280230-dd43-4554-a484-4da6d246d7d5",
        "colab": {
          "base_uri": "https://localhost:8080/",
          "height": 404
        }
      },
      "id": "MjexkHs5ntGV",
      "execution_count": 119,
      "outputs": [
        {
          "output_type": "execute_result",
          "data": {
            "text/plain": [
              "<AxesSubplot:>"
            ]
          },
          "metadata": {},
          "execution_count": 119
        },
        {
          "output_type": "display_data",
          "data": {
            "text/plain": [
              "<Figure size 432x288 with 2 Axes>"
            ],
            "image/png": "[encoded data removed]"
          },
          "metadata": {
            "needs_background": "light"
          }
        }
      ]
    },
    {
      "cell_type": "markdown",
      "source": [
        "## **5. TODO 4.2: Implement a New, Non-Learnt Ranker**\n",
        "[back to top](#scrollTo=bvONhqQblFfl&uniqifier=1)"
      ],
      "metadata": {
        "id": "a4ZcoFf8uL2v"
      },
      "id": "a4ZcoFf8uL2v"
    },
    {
      "cell_type": "markdown",
      "id": "26c7ffa6-2c35-45c0-9d6d-78ab11f30632",
      "metadata": {
        "id": "26c7ffa6-2c35-45c0-9d6d-78ab11f30632"
      },
      "source": [
        "Your next goal is to implement another simple, non-learnt ranking logic, and compare the performance of both the production ranker and new ranking policy on the NDCG and three behavioral metrics you created above. A simple ranking policy could include sort by track popularity, or sort by danceability score for the track.\n",
        "  \n",
        "<br>Implement your ranker and then comment on its performance on our behavioral metrics compared to Spotify's production ranker:"
      ]
    },
    {
      "cell_type": "code",
      "execution_count": 129,
      "id": "6b518677-2ffd-4e9e-97cc-7de494ac8543",
      "metadata": {
        "id": "6b518677-2ffd-4e9e-97cc-7de494ac8543"
      },
      "outputs": [],
      "source": [
        "log = pd.merge(log,tracks[['track_id','us_popularity_estimate']], right_on='track_id', left_on='track_id_clean',how='left')\n",
        "\n",
        "log['new_ranker'] = log.groupby('session_id')['us_popularity_estimate'].rank(ascending=False)"
      ]
    },
    {
      "cell_type": "code",
      "source": [
        "#NDCG SCORE"
      ],
      "metadata": {
        "id": "52rQ8RZCwgBl"
      },
      "id": "52rQ8RZCwgBl",
      "execution_count": 140,
      "outputs": []
    },
    {
      "cell_type": "code",
      "source": [
        "log.sort_values(by=['new_ranker']).groupby(\"session_id\").progress_apply(partial(compute_ndcg, topk=topk)).mean()"
      ],
      "metadata": {
        "id": "7tYBvytBvz4C",
        "outputId": "f15cf60b-cf23-4092-e6f8-cf5530467b6a",
        "colab": {
          "base_uri": "https://localhost:8080/"
        }
      },
      "id": "7tYBvytBvz4C",
      "execution_count": 137,
      "outputs": [
        {
          "output_type": "stream",
          "name": "stderr",
          "text": [
            "100%|██████████| 10000/10000 [00:12<00:00, 814.30it/s]\n"
          ]
        },
        {
          "output_type": "execute_result",
          "data": {
            "text/plain": [
              "0.8165047813022064"
            ]
          },
          "metadata": {},
          "execution_count": 137
        }
      ]
    },
    {
      "cell_type": "code",
      "source": [
        "# SKIP TIME"
      ],
      "metadata": {
        "id": "X6fnsn8zw0JU"
      },
      "id": "X6fnsn8zw0JU",
      "execution_count": 141,
      "outputs": []
    },
    {
      "cell_type": "code",
      "source": [
        "log.sort_values(by=['new_ranker']).groupby(\"session_id\").apply(lambda x:skip_func(x)).mean()"
      ],
      "metadata": {
        "id": "w3CuoNNSuZPu",
        "outputId": "961705b4-d0b3-455e-de8b-afe3ee995212",
        "colab": {
          "base_uri": "https://localhost:8080/"
        }
      },
      "id": "w3CuoNNSuZPu",
      "execution_count": 134,
      "outputs": [
        {
          "output_type": "execute_result",
          "data": {
            "text/plain": [
              "3.3462803777990024"
            ]
          },
          "metadata": {},
          "execution_count": 134
        }
      ]
    },
    {
      "cell_type": "code",
      "source": [
        "# DISSATISFACTION"
      ],
      "metadata": {
        "id": "Y5HQkaFhw2CM"
      },
      "id": "Y5HQkaFhw2CM",
      "execution_count": 142,
      "outputs": []
    },
    {
      "cell_type": "code",
      "source": [
        "log.sort_values(by=['new_ranker']).groupby(\"session_id\").apply(lambda x:sustained_dissatisfaction(x) ).mean()"
      ],
      "metadata": {
        "id": "VaemsPtKvcOd",
        "outputId": "0052e785-e18c-4cae-f617-d0e99ae27a77",
        "colab": {
          "base_uri": "https://localhost:8080/"
        }
      },
      "id": "VaemsPtKvcOd",
      "execution_count": 135,
      "outputs": [
        {
          "output_type": "execute_result",
          "data": {
            "text/plain": [
              "0.504"
            ]
          },
          "metadata": {},
          "execution_count": 135
        }
      ]
    },
    {
      "cell_type": "code",
      "source": [
        "# SESSION COHERENCE"
      ],
      "metadata": {
        "id": "EMLfKDppw5JG"
      },
      "id": "EMLfKDppw5JG",
      "execution_count": null,
      "outputs": []
    },
    {
      "cell_type": "code",
      "source": [
        "def get_session_coherence(logs_df, tracks_df):\n",
        "    acoustic_vec_cols = [f'acoustic_vector_{i}' for i in range(8)]    \n",
        "    top_logs = logs_df.sort_values(by=['session_position'])\n",
        "    #logs_with_acoustic = tracks_df.merge(top_logs, left_on='track_id', right_on='track_id_clean')\n",
        "    logs_with_acoustic = pd.merge(top_logs,tracks_df, right_on='track_id', left_on='track_id_clean',how='left')\n",
        "\n",
        "    def session_coherence(session_df):\n",
        "        return np.mean(cosine_similarity(session_df[acoustic_vec_cols].values))\n",
        "\n",
        "    return logs_with_acoustic.groupby('new_ranker').apply(session_coherence)\n",
        "\n",
        "get_session_coherence(log, tracks).mean()"
      ],
      "metadata": {
        "id": "nu-VBJPmvpdP",
        "outputId": "a562afed-e03a-4e39-a4a3-7a9a341a01d9",
        "colab": {
          "base_uri": "https://localhost:8080/"
        }
      },
      "id": "nu-VBJPmvpdP",
      "execution_count": 136,
      "outputs": [
        {
          "output_type": "execute_result",
          "data": {
            "text/plain": [
              "0.45288633620328395"
            ]
          },
          "metadata": {},
          "execution_count": 136
        }
      ]
    },
    {
      "cell_type": "markdown",
      "source": [
        "# <u>Off-Policy Evaluation:</u>"
      ],
      "metadata": {
        "id": "QE9kKG28vT-H"
      },
      "id": "QE9kKG28vT-H"
    },
    {
      "cell_type": "markdown",
      "source": [
        "## **1. Introduction**\n",
        "[back to top](#scrollTo=bvONhqQblFfl&uniqifier=1)"
      ],
      "metadata": {
        "id": "LKg4HQSbxwCY"
      },
      "id": "LKg4HQSbxwCY"
    },
    {
      "cell_type": "markdown",
      "id": "b7e4812d-3b39-4def-a293-7da0297f32a1",
      "metadata": {
        "id": "b7e4812d-3b39-4def-a293-7da0297f32a1"
      },
      "source": [
        "We log listener behavior based on the recommendations that the production recommender serves to the listener. Using this data to assess any new recommender system, however, can present challenges – the production recommender and the new recommender can drastically differ in the results that they display to the user. For example, maybe the new recommender presents a lot of niche content, while the production recommender presents a lot of popular options. This can be an issue when evaluating a new recommender – If you don’t have any feedback on a recommendation because you never presented it to a user, how can you evaluate whether it’s a good recommendation?\n",
        "If you have a new policy to test that’s very similar to your old approach, then this won’t be an issue, and it’ll be easy to test! However, if the policy is very different, then you’ll need to collect special logged data.\n",
        "\n",
        "In this part of the project, we will simulate a recommendation policy and leverage counterfactual estimators as metrics to compare performance."
      ]
    },
    {
      "cell_type": "markdown",
      "source": [
        "## **2. Setup**\n",
        "[back to top](#scrollTo=bvONhqQblFfl&uniqifier=1)"
      ],
      "metadata": {
        "id": "Qp_3_z7myCKU"
      },
      "id": "Qp_3_z7myCKU"
    },
    {
      "cell_type": "markdown",
      "source": [
        "Let's first begin by generating a few users and products. For ease of simulation, we assume users derive equal satisfaction from each item:"
      ],
      "metadata": {
        "id": "i38fIQrsx50p"
      },
      "id": "i38fIQrsx50p"
    },
    {
      "cell_type": "code",
      "execution_count": 3,
      "id": "539cfda5-98eb-415c-a98b-ccb9acc22031",
      "metadata": {
        "id": "539cfda5-98eb-415c-a98b-ccb9acc22031"
      },
      "outputs": [],
      "source": [
        "users = np.array([\"user1\", \"user2\", \"user3\"])\n",
        "\n",
        "products = np.array(\n",
        "    [\n",
        "        \"product_a\",\n",
        "        \"product_b\",\n",
        "        \"product_c\",\n",
        "        \"product_d\",\n",
        "        \"product_e\",\n",
        "        \"product_f\",\n",
        "        \"product_g\",\n",
        "    ]\n",
        ")\n",
        "\n",
        "satisfaction = {\n",
        "    \"product_a\": 100,\n",
        "    \"product_b\": 150,\n",
        "    \"product_c\": 100,\n",
        "    \"product_d\": 200,\n",
        "    \"product_e\": 500,\n",
        "    \"product_f\": 120,\n",
        "    \"product_g\": 160,\n",
        "}"
      ]
    },
    {
      "cell_type": "markdown",
      "id": "1a77fd2c-7586-4ea5-9e28-67d6f3050bab",
      "metadata": {
        "id": "1a77fd2c-7586-4ea5-9e28-67d6f3050bab"
      },
      "source": [
        "Let's also implement whether a given user will accept a given recommendation or not. Once done, we can implement a target policy that makes recommendations."
      ]
    },
    {
      "cell_type": "code",
      "execution_count": 4,
      "id": "fd59b6ef-5d27-47b5-8b39-8adfd8eae51d",
      "metadata": {
        "id": "fd59b6ef-5d27-47b5-8b39-8adfd8eae51d"
      },
      "outputs": [],
      "source": [
        "def will_purchase(user, product):\n",
        "    if user == \"user1\" and (\n",
        "        product == \"product_a\" or product == \"product_b\" or product == \"product_c\"\n",
        "    ):\n",
        "        return True\n",
        "    elif user == \"user2\" and (product == \"product_d\" or product == \"product_e\"):\n",
        "        return True\n",
        "    elif user == \"user3\" and (product == \"product_f\" or product == \"product_g\"):\n",
        "        return True\n",
        "    else:\n",
        "        return False\n",
        "\n",
        "\n",
        "def choose_user():\n",
        "    return np.random.choice(users, size=1)\n",
        "\n",
        "\n",
        "def logging_policy():\n",
        "    return np.random.choice(products, size=1), 1 / len(products)\n",
        "\n",
        "\n",
        "class TargetPolicy:\n",
        "    def __init__(self):\n",
        "        self.user_probs = {\n",
        "            \"user1\": np.array([0.1, 0.1, 0.2, 0.1, 0.15, 0.15, 0.20]),\n",
        "            \"user2\": np.array([0.1, 0.10, 0.05, 0.25, 0.3, 0.1, 0.1]),\n",
        "            \"user3\": np.array([0.06, 0.06, 0.3, 0.06, 0.06, 0.4, 0.06]),\n",
        "        }\n",
        "\n",
        "        for user, probs in self.user_probs.items():\n",
        "            assert probs.sum() == 1\n",
        "            assert len(probs) == len(products)\n",
        "\n",
        "    def recommend(self, user):\n",
        "        user_prob = self.user_probs[user]\n",
        "        product = np.random.choice(products, size=1, p=user_prob)\n",
        "        product_idx = np.where(products == product)\n",
        "        prob = user_prob[product_idx]\n",
        "\n",
        "        return product, prob\n",
        "\n",
        "    def get_prob(self, user, product):\n",
        "        user_prob = self.user_probs[user]\n",
        "        product_idx = np.where(products == product)\n",
        "        product_prob = user_prob[product_idx]\n",
        "\n",
        "        return product_prob"
      ]
    },
    {
      "cell_type": "markdown",
      "id": "b0d1d10d-a993-42fb-a26c-106a46001719",
      "metadata": {
        "id": "b0d1d10d-a993-42fb-a26c-106a46001719"
      },
      "source": [
        "Having defined all key components of the dataset generation, let's create logged data that we can finally use for evaluation purposes:"
      ]
    },
    {
      "cell_type": "code",
      "execution_count": 5,
      "id": "e78f2bd2-5ad1-4b9e-87b5-abad2b3098a2",
      "metadata": {
        "id": "e78f2bd2-5ad1-4b9e-87b5-abad2b3098a2"
      },
      "outputs": [],
      "source": [
        "def compute_satisfaction(user, product):\n",
        "    if will_purchase(user, product):\n",
        "        return satisfaction[product.item()]\n",
        "    else:\n",
        "        return 0\n",
        "\n",
        "\n",
        "def create_logs(n=1000):\n",
        "    logs = []\n",
        "    target_policy = TargetPolicy()\n",
        "\n",
        "    for _ in tqdm(range(n)):\n",
        "        user = choose_user()\n",
        "\n",
        "        logging_product, logging_prob = logging_policy()\n",
        "        model_prob = target_policy.get_prob(user.item(), logging_product)\n",
        "\n",
        "        target_product, _ = target_policy.recommend(user.item())\n",
        "\n",
        "        logging_satisfaction = compute_satisfaction(user, logging_product)\n",
        "        target_satisfaction = compute_satisfaction(user, target_product)\n",
        "\n",
        "        log = OrderedDict(\n",
        "            {\n",
        "                \"user_features\": user.item(),\n",
        "                \"item_placed\": logging_product.item(),\n",
        "                \"item_prob\": logging_prob,\n",
        "                \"item_satisfaction\": logging_satisfaction,\n",
        "                \"model_prob\": model_prob.item(),\n",
        "                \"ab_test_satisfaction\": target_satisfaction,\n",
        "            }\n",
        "        )\n",
        "\n",
        "        logs.append(log)\n",
        "\n",
        "    return pd.DataFrame(logs)"
      ]
    },
    {
      "cell_type": "markdown",
      "id": "bf3731a5-75ba-4522-889a-a3bdba5d46dc",
      "metadata": {
        "id": "bf3731a5-75ba-4522-889a-a3bdba5d46dc"
      },
      "source": [
        "Here is what our logged data now looks like:"
      ]
    },
    {
      "cell_type": "code",
      "execution_count": 6,
      "id": "4ff18b51-9484-4e15-9f73-c8950343fac9",
      "metadata": {
        "id": "4ff18b51-9484-4e15-9f73-c8950343fac9",
        "outputId": "577d76a3-9e1f-4c58-8e2a-53164e1bda4f",
        "colab": {
          "base_uri": "https://localhost:8080/",
          "height": 224
        }
      },
      "outputs": [
        {
          "output_type": "stream",
          "name": "stderr",
          "text": [
            "100%|██████████| 1000/1000 [00:00<00:00, 5358.01it/s]\n"
          ]
        },
        {
          "output_type": "execute_result",
          "data": {
            "text/plain": [
              "  user_features item_placed  item_prob  item_satisfaction  model_prob  \\\n",
              "0         user2   product_a   0.142857                  0        0.10   \n",
              "1         user1   product_g   0.142857                  0        0.20   \n",
              "2         user2   product_e   0.142857                500        0.30   \n",
              "3         user1   product_d   0.142857                  0        0.10   \n",
              "4         user2   product_c   0.142857                  0        0.05   \n",
              "\n",
              "   ab_test_satisfaction  \n",
              "0                     0  \n",
              "1                     0  \n",
              "2                   200  \n",
              "3                     0  \n",
              "4                   200  "
            ],
            "text/html": [
              "\n",
              "  <div id=\"df-26d3cc50-7536-498a-833e-18a6e122a0af\">\n",
              "    <div class=\"colab-df-container\">\n",
              "      <div>\n",
              "<style scoped>\n",
              "    .dataframe tbody tr th:only-of-type {\n",
              "        vertical-align: middle;\n",
              "    }\n",
              "\n",
              "    .dataframe tbody tr th {\n",
              "        vertical-align: top;\n",
              "    }\n",
              "\n",
              "    .dataframe thead th {\n",
              "        text-align: right;\n",
              "    }\n",
              "</style>\n",
              "<table border=\"1\" class=\"dataframe\">\n",
              "  <thead>\n",
              "    <tr style=\"text-align: right;\">\n",
              "      <th></th>\n",
              "      <th>user_features</th>\n",
              "      <th>item_placed</th>\n",
              "      <th>item_prob</th>\n",
              "      <th>item_satisfaction</th>\n",
              "      <th>model_prob</th>\n",
              "      <th>ab_test_satisfaction</th>\n",
              "    </tr>\n",
              "  </thead>\n",
              "  <tbody>\n",
              "    <tr>\n",
              "      <th>0</th>\n",
              "      <td>user2</td>\n",
              "      <td>product_a</td>\n",
              "      <td>0.142857</td>\n",
              "      <td>0</td>\n",
              "      <td>0.10</td>\n",
              "      <td>0</td>\n",
              "    </tr>\n",
              "    <tr>\n",
              "      <th>1</th>\n",
              "      <td>user1</td>\n",
              "      <td>product_g</td>\n",
              "      <td>0.142857</td>\n",
              "      <td>0</td>\n",
              "      <td>0.20</td>\n",
              "      <td>0</td>\n",
              "    </tr>\n",
              "    <tr>\n",
              "      <th>2</th>\n",
              "      <td>user2</td>\n",
              "      <td>product_e</td>\n",
              "      <td>0.142857</td>\n",
              "      <td>500</td>\n",
              "      <td>0.30</td>\n",
              "      <td>200</td>\n",
              "    </tr>\n",
              "    <tr>\n",
              "      <th>3</th>\n",
              "      <td>user1</td>\n",
              "      <td>product_d</td>\n",
              "      <td>0.142857</td>\n",
              "      <td>0</td>\n",
              "      <td>0.10</td>\n",
              "      <td>0</td>\n",
              "    </tr>\n",
              "    <tr>\n",
              "      <th>4</th>\n",
              "      <td>user2</td>\n",
              "      <td>product_c</td>\n",
              "      <td>0.142857</td>\n",
              "      <td>0</td>\n",
              "      <td>0.05</td>\n",
              "      <td>200</td>\n",
              "    </tr>\n",
              "  </tbody>\n",
              "</table>\n",
              "</div>\n",
              "      <button class=\"colab-df-convert\" onclick=\"convertToInteractive('df-26d3cc50-7536-498a-833e-18a6e122a0af')\"\n",
              "              title=\"Convert this dataframe to an interactive table.\"\n",
              "              style=\"display:none;\">\n",
              "        \n",
              "  <svg xmlns=\"http://www.w3.org/2000/svg\" height=\"24px\"viewBox=\"0 0 24 24\"\n",
              "       width=\"24px\">\n",
              "    <path d=\"M0 0h24v24H0V0z\" fill=\"none\"/>\n",
              "    <path d=\"M18.56 5.44l.94 2.06.94-2.06 2.06-.94-2.06-.94-.94-2.06-.94 2.06-2.06.94zm-11 1L8.5 8.5l.94-2.06 2.06-.94-2.06-.94L8.5 2.5l-.94 2.06-2.06.94zm10 10l.94 2.06.94-2.06 2.06-.94-2.06-.94-.94-2.06-.94 2.06-2.06.94z\"/><path d=\"M17.41 7.96l-1.37-1.37c-.4-.4-.92-.59-1.43-.59-.52 0-1.04.2-1.43.59L10.3 9.45l-7.72 7.72c-.78.78-.78 2.05 0 2.83L4 21.41c.39.39.9.59 1.41.59.51 0 1.02-.2 1.41-.59l7.78-7.78 2.81-2.81c.8-.78.8-2.07 0-2.86zM5.41 20L4 18.59l7.72-7.72 1.47 1.35L5.41 20z\"/>\n",
              "  </svg>\n",
              "      </button>\n",
              "      \n",
              "  <style>\n",
              "    .colab-df-container {\n",
              "      display:flex;\n",
              "      flex-wrap:wrap;\n",
              "      gap: 12px;\n",
              "    }\n",
              "\n",
              "    .colab-df-convert {\n",
              "      background-color: #E8F0FE;\n",
              "      border: none;\n",
              "      border-radius: 50%;\n",
              "      cursor: pointer;\n",
              "      display: none;\n",
              "      fill: #1967D2;\n",
              "      height: 32px;\n",
              "      padding: 0 0 0 0;\n",
              "      width: 32px;\n",
              "    }\n",
              "\n",
              "    .colab-df-convert:hover {\n",
              "      background-color: #E2EBFA;\n",
              "      box-shadow: 0px 1px 2px rgba(60, 64, 67, 0.3), 0px 1px 3px 1px rgba(60, 64, 67, 0.15);\n",
              "      fill: #174EA6;\n",
              "    }\n",
              "\n",
              "    [theme=dark] .colab-df-convert {\n",
              "      background-color: #3B4455;\n",
              "      fill: #D2E3FC;\n",
              "    }\n",
              "\n",
              "    [theme=dark] .colab-df-convert:hover {\n",
              "      background-color: #434B5C;\n",
              "      box-shadow: 0px 1px 3px 1px rgba(0, 0, 0, 0.15);\n",
              "      filter: drop-shadow(0px 1px 2px rgba(0, 0, 0, 0.3));\n",
              "      fill: #FFFFFF;\n",
              "    }\n",
              "  </style>\n",
              "\n",
              "      <script>\n",
              "        const buttonEl =\n",
              "          document.querySelector('#df-26d3cc50-7536-498a-833e-18a6e122a0af button.colab-df-convert');\n",
              "        buttonEl.style.display =\n",
              "          google.colab.kernel.accessAllowed ? 'block' : 'none';\n",
              "\n",
              "        async function convertToInteractive(key) {\n",
              "          const element = document.querySelector('#df-26d3cc50-7536-498a-833e-18a6e122a0af');\n",
              "          const dataTable =\n",
              "            await google.colab.kernel.invokeFunction('convertToInteractive',\n",
              "                                                     [key], {});\n",
              "          if (!dataTable) return;\n",
              "\n",
              "          const docLinkHtml = 'Like what you see? Visit the ' +\n",
              "            '<a target=\"_blank\" href=https://colab.research.google.com/notebooks/data_table.ipynb>data table notebook</a>'\n",
              "            + ' to learn more about interactive tables.';\n",
              "          element.innerHTML = '';\n",
              "          dataTable['output_type'] = 'display_data';\n",
              "          await google.colab.output.renderOutput(dataTable, element);\n",
              "          const docLink = document.createElement('div');\n",
              "          docLink.innerHTML = docLinkHtml;\n",
              "          element.appendChild(docLink);\n",
              "        }\n",
              "      </script>\n",
              "    </div>\n",
              "  </div>\n",
              "  "
            ]
          },
          "metadata": {},
          "execution_count": 6
        }
      ],
      "source": [
        "logs = create_logs(n=1000)\n",
        "logs.head(5)"
      ]
    },
    {
      "cell_type": "markdown",
      "source": [
        "## **3. Rewards and IPS**\n",
        "[back to top](#scrollTo=bvONhqQblFfl&uniqifier=1)"
      ],
      "metadata": {
        "id": "9RboprQXyuCB"
      },
      "id": "9RboprQXyuCB"
    },
    {
      "cell_type": "markdown",
      "id": "cc6a4c42-467f-4dfd-8e75-3d58a9c77781",
      "metadata": {
        "id": "cc6a4c42-467f-4dfd-8e75-3d58a9c77781"
      },
      "source": [
        "With the dataset ready, let's compute the mean rewards (satisfaction) for the logging/production policy and the target policy. Note that due to randomness in the log generation process your result will likely differ.\n"
      ]
    },
    {
      "cell_type": "code",
      "execution_count": 7,
      "id": "082465c7-b149-40ac-aa40-a44116d2a7bf",
      "metadata": {
        "id": "082465c7-b149-40ac-aa40-a44116d2a7bf",
        "outputId": "ac80431d-fc4c-4b3d-96b0-72e7d8bcf842",
        "colab": {
          "base_uri": "https://localhost:8080/"
        }
      },
      "outputs": [
        {
          "output_type": "stream",
          "name": "stderr",
          "text": [
            "100%|██████████| 100000/100000 [00:17<00:00, 5671.50it/s]\n"
          ]
        },
        {
          "output_type": "stream",
          "name": "stdout",
          "text": [
            "Expected reward from logging policy: 63.70\n",
            "Expected reward from target policy: 101.85\n"
          ]
        }
      ],
      "source": [
        "sim = create_logs(n=100_000)\n",
        "logging_policy_reward = sim[\"item_satisfaction\"].mean()\n",
        "target_policy_reward = sim[\"ab_test_satisfaction\"].mean()\n",
        "\n",
        "print(f\"Expected reward from logging policy: {logging_policy_reward:.2f}\")\n",
        "print(f\"Expected reward from target policy: {target_policy_reward:.2f}\")"
      ]
    },
    {
      "cell_type": "markdown",
      "id": "37a954a7-a0ea-4bec-9d60-3ec0ea549f40",
      "metadata": {
        "id": "37a954a7-a0ea-4bec-9d60-3ec0ea549f40"
      },
      "source": [
        "Now let's implement the IPS estimator:"
      ]
    },
    {
      "cell_type": "code",
      "execution_count": 8,
      "id": "f574b73d-38b7-4504-addc-47fd23839d40",
      "metadata": {
        "id": "f574b73d-38b7-4504-addc-47fd23839d40",
        "outputId": "63e6626b-94b9-4453-bcfd-3c4d0f342365",
        "colab": {
          "base_uri": "https://localhost:8080/"
        }
      },
      "outputs": [
        {
          "output_type": "execute_result",
          "data": {
            "text/plain": [
              "105.1666"
            ]
          },
          "metadata": {},
          "execution_count": 8
        }
      ],
      "source": [
        "def compute_ips(df):\n",
        "    assert {\"model_prob\", \"item_prob\", \"item_satisfaction\"}.issubset(df.columns)\n",
        "    return (df[\"model_prob\"] / df[\"item_prob\"] * df[\"item_satisfaction\"]).mean()\n",
        "\n",
        "compute_ips(logs)"
      ]
    },
    {
      "cell_type": "markdown",
      "id": "8d2a93e4-0e1d-45e1-846f-d7fd73bfb9de",
      "metadata": {
        "id": "8d2a93e4-0e1d-45e1-846f-d7fd73bfb9de"
      },
      "source": [
        "Computing the IPS estimator on our 1,000 entry log gives an average revenue much closer to our expected reward from the target policy compared to that of the logging policy. Therefore, we should be confident to deploy our target policy to production and do an A/B test comparing it with the logging policy as a final validation."
      ]
    },
    {
      "cell_type": "markdown",
      "source": [
        "## **4. TODO 4.3: Capped IPS and NCIS**\n",
        "[back to top](#scrollTo=bvONhqQblFfl&uniqifier=1)"
      ],
      "metadata": {
        "id": "zQuEVahrzNV9"
      },
      "id": "zQuEVahrzNV9"
    },
    {
      "cell_type": "markdown",
      "id": "ce6d30c6-7684-47d6-a65c-523138f5ee5a",
      "metadata": {
        "id": "ce6d30c6-7684-47d6-a65c-523138f5ee5a"
      },
      "source": [
        "Your goal is to implement two additional off-policy estimators:\n",
        "1. Capped IPS\n",
        "2. Normalized Capped Importance Sampling (NCIS)\n",
        "\n",
        "Feel free to try different capping thresholds, and compare the reward and standard deviations of these estimators with the IPS estimator and mean reward."
      ]
    },
    {
      "cell_type": "code",
      "execution_count": 9,
      "id": "5ec2fbc1-4b2d-4984-bc83-34d47cb067b4",
      "metadata": {
        "id": "5ec2fbc1-4b2d-4984-bc83-34d47cb067b4",
        "outputId": "81feb578-b1c6-41db-c7e6-f0f1e63f100b",
        "colab": {
          "base_uri": "https://localhost:8080/"
        }
      },
      "outputs": [
        {
          "output_type": "stream",
          "name": "stdout",
          "text": [
            "CIPS mean: 105.1666, CIPS std: 239.17121573231773\n",
            "IPS min weight: 0.35000000000000003, IPS max weight: 2.8000000000000003\n"
          ]
        }
      ],
      "source": [
        "def compute_capped_ips(logs, cap=1000):\n",
        "    \"\"\"\n",
        "    Computes the Capped IPS.\n",
        "\n",
        "    Args:\n",
        "        logs (DataFrame): Generated logs data\n",
        "        cap (int): Capping threshold\n",
        "\n",
        "    Returns:\n",
        "        ips (float): Resulting IPS\n",
        "    \"\"\"\n",
        "    ips = 0\n",
        "\n",
        "    # Your code goes here\n",
        "\n",
        "    ips_weight = logs[\"model_prob\"] / logs[\"item_prob\"]\n",
        "    cips_weight = ips_weight.apply(lambda x: min(x, cap))\n",
        "    cips = cips_weight * logs[\"item_satisfaction\"]\n",
        "    return cips.mean(), cips.std(), ips_weight.max(), ips_weight.min()\n",
        "\n",
        "cips_mean, cips_std, ips_max_weight, ips_min_weight = compute_capped_ips(logs)\n",
        "print(f\"CIPS mean: {cips_mean}, CIPS std: {cips_std}\")\n",
        "print(f\"IPS min weight: {ips_min_weight}, IPS max weight: {ips_max_weight}\")"
      ]
    },
    {
      "cell_type": "code",
      "source": [
        "# Since ips weight is bounded in [0.35,2.8] there is no need of capping in this case"
      ],
      "metadata": {
        "id": "0H74Bl_23YIJ"
      },
      "id": "0H74Bl_23YIJ",
      "execution_count": 29,
      "outputs": []
    },
    {
      "cell_type": "code",
      "execution_count": 10,
      "id": "e4b03cee-1438-4f1f-a170-4b535979b231",
      "metadata": {
        "id": "e4b03cee-1438-4f1f-a170-4b535979b231",
        "outputId": "655449f9-fa5c-4031-cc0f-86fc06a1357b",
        "colab": {
          "base_uri": "https://localhost:8080/"
        }
      },
      "outputs": [
        {
          "output_type": "stream",
          "name": "stdout",
          "text": [
            "NCIS mean: 85.80708797135493, NCIS std: 96.37941654051353\n"
          ]
        }
      ],
      "source": [
        "def compute_ncis(logs, cap=1000):\n",
        "    \"\"\"\n",
        "    Computes the NCIS.\n",
        "\n",
        "    Args:\n",
        "        logs (DataFrame): Generated logs data\n",
        "        cap (int): Capping threshold\n",
        "\n",
        "    Returns:\n",
        "        ncis (float): Resulting NCIS\n",
        "    \"\"\"\n",
        "    ncis = 0\n",
        "\n",
        "    # Your code goes here\n",
        "    ips_weight = logs[\"model_prob\"] / logs[\"item_prob\"]\n",
        "    ncis = compute_capped_ips(logs, cap) / (ips_weight.mean())\n",
        "    return ncis.mean(), ncis.std()\n",
        "\n",
        "ncis_mean, ncis_std = compute_ncis(logs)\n",
        "print(f\"NCIS mean: {ncis_mean}, NCIS std: {ncis_std}\")"
      ]
    },
    {
      "cell_type": "code",
      "source": [],
      "metadata": {
        "id": "lJB3TmBN2EA6"
      },
      "id": "lJB3TmBN2EA6",
      "execution_count": null,
      "outputs": []
    }
  ],
  "metadata": {
    "environment": {
      "kernel": "python3",
      "name": "tf2-gpu.2-6.m89",
      "type": "gcloud",
      "uri": "gcr.io/deeplearning-platform-release/tf2-gpu.2-6:m89"
    },
    "kernelspec": {
      "display_name": "Python 3",
      "language": "python",
      "name": "python3"
    },
    "language_info": {
      "codemirror_mode": {
        "name": "ipython",
        "version": 3
      },
      "file_extension": ".py",
      "mimetype": "text/x-python",
      "name": "python",
      "nbconvert_exporter": "python",
      "pygments_lexer": "ipython3",
      "version": "3.7.12"
    },
    "colab": {
      "provenance": [],
      "collapsed_sections": [
        "oN0zQSPYncJR",
        "mKT-yDAzlP9Y",
        "SuQ7Xnp1lolE",
        "H1_DJMNDoW-5",
        "rkHkC-SnsQRI",
        "a4ZcoFf8uL2v",
        "QE9kKG28vT-H",
        "LKg4HQSbxwCY",
        "Qp_3_z7myCKU",
        "9RboprQXyuCB",
        "zQuEVahrzNV9"
      ]
    }
  },
  "nbformat": 4,
  "nbformat_minor": 5
}